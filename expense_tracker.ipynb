{
  "nbformat": 4,
  "nbformat_minor": 0,
  "metadata": {
    "colab": {
      "provenance": [],
      "authorship_tag": "ABX9TyPSVr88jCorO5SHw7Q71wog",
      "include_colab_link": true
    },
    "kernelspec": {
      "name": "python3",
      "display_name": "Python 3"
    },
    "language_info": {
      "name": "python"
    }
  },
  "cells": [
    {
      "cell_type": "markdown",
      "metadata": {
        "id": "view-in-github",
        "colab_type": "text"
      },
      "source": [
        "<a href=\"https://colab.research.google.com/github/jjcloudstudio/expense-tracker/blob/main/expense_tracker.ipynb\" target=\"_parent\"><img src=\"https://colab.research.google.com/assets/colab-badge.svg\" alt=\"Open In Colab\"/></a>"
      ]
    },
    {
      "cell_type": "code",
      "execution_count": 1,
      "metadata": {
        "id": "TTA6iTjQ0uU1"
      },
      "outputs": [],
      "source": [
        "#Description this is a expense tracker"
      ]
    },
    {
      "cell_type": "code",
      "source": [
        "#Import the libraries\n",
        "import numpy as np\n",
        "import pandas as pd\n",
        "from datetime import date"
      ],
      "metadata": {
        "id": "diqb8TJo1YsD"
      },
      "execution_count": 2,
      "outputs": []
    },
    {
      "cell_type": "code",
      "source": [
        "#create empty list\n",
        "GOODS_OR_SERVICES = []\n",
        "PRICES = []\n",
        "DATES = []\n",
        "EXPENSE_TYPE = []"
      ],
      "metadata": {
        "id": "Tvw4lh6J1gDZ"
      },
      "execution_count": 3,
      "outputs": []
    },
    {
      "cell_type": "code",
      "source": [
        "#create a function to add the expenses to the lists and organise the data\n",
        "def add_expense(good_or_service, price, date, expense_type):\n",
        "  GOODS_OR_SERVICES.append(good_or_service)\n",
        "  PRICES.append(price)\n",
        "  DATES.append(date)\n",
        "  EXPENSE_TYPES.append(expense_type)"
      ],
      "metadata": {
        "id": "YTuTbYtQTBmG"
      },
      "execution_count": 4,
      "outputs": []
    },
    {
      "cell_type": "code",
      "source": [
        "#main program\n",
        "option = -1 #this will be the users option or choice or input\n",
        "while(option != 0):\n",
        "  #create the option menu\n",
        "  print('Welcome to the expense tracker: ')\n",
        "  print('1. Add Food Expense')\n",
        "  print('2. Add household expense')\n",
        "  print('3. Add transportation expense')\n",
        "  print('4. Show and save the expense report')\n",
        "  print('0. Exit')\n",
        "  option = int(input('Choose an option:\\n'))\n"
      ],
      "metadata": {
        "colab": {
          "base_uri": "https://localhost:8080/"
        },
        "id": "FheVqE8hTj19",
        "outputId": "c15f3da2-fe4d-4cde-a90a-70af370c79b1"
      },
      "execution_count": null,
      "outputs": [
        {
          "output_type": "stream",
          "name": "stdout",
          "text": [
            "Welcome to the expense tracker: \n",
            "1. Add Food Expense\n",
            "2. Add household expense\n",
            "3. Add transportation expense\n",
            "4. Show and save the expense report\n",
            "0. Exit\n"
          ]
        }
      ]
    },
    {
      "cell_type": "code",
      "source": [
        "#new box"
      ],
      "metadata": {
        "id": "vJZyP2Jc4rdA"
      },
      "execution_count": null,
      "outputs": []
    }
  ]
}